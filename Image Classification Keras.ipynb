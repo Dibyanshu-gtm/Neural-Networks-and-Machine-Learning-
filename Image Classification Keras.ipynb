{
 "cells": [
  {
   "cell_type": "code",
   "execution_count": 1,
   "metadata": {},
   "outputs": [
    {
     "name": "stderr",
     "output_type": "stream",
     "text": [
      "Using TensorFlow backend.\n"
     ]
    }
   ],
   "source": [
    "import keras"
   ]
  },
  {
   "cell_type": "code",
   "execution_count": 2,
   "metadata": {},
   "outputs": [],
   "source": [
    "from keras.models import Sequential\n",
    "from keras.layers import Convolution2D\n",
    "from keras.layers import MaxPooling2D\n",
    "from keras.layers import Flatten\n",
    "from keras.layers import Dense\n"
   ]
  },
  {
   "cell_type": "code",
   "execution_count": 3,
   "metadata": {},
   "outputs": [],
   "source": [
    "model=Sequential()"
   ]
  },
  {
   "cell_type": "markdown",
   "metadata": {},
   "source": [
    "#### Convolution Layer"
   ]
  },
  {
   "cell_type": "code",
   "execution_count": 5,
   "metadata": {},
   "outputs": [
    {
     "name": "stdout",
     "output_type": "stream",
     "text": [
      "WARNING:tensorflow:From C:\\Users\\Dibs Gautam\\Anaconda3\\envs\\tensoflow-sessions\\lib\\site-packages\\tensorflow\\python\\framework\\op_def_library.py:263: colocate_with (from tensorflow.python.framework.ops) is deprecated and will be removed in a future version.\n",
      "Instructions for updating:\n",
      "Colocations handled automatically by placer.\n"
     ]
    }
   ],
   "source": [
    "model.add(Convolution2D(filters=32,kernel_size=(3,3),input_shape=(64,64,3),activation='relu'))"
   ]
  },
  {
   "cell_type": "markdown",
   "metadata": {},
   "source": [
    "#### Pooling Layer"
   ]
  },
  {
   "cell_type": "code",
   "execution_count": 6,
   "metadata": {},
   "outputs": [],
   "source": [
    "model.add(MaxPooling2D(pool_size=(2,2)))"
   ]
  },
  {
   "cell_type": "markdown",
   "metadata": {},
   "source": [
    "#### Flattening Layer"
   ]
  },
  {
   "cell_type": "code",
   "execution_count": 7,
   "metadata": {},
   "outputs": [],
   "source": [
    "model.add(Flatten())"
   ]
  },
  {
   "cell_type": "markdown",
   "metadata": {},
   "source": [
    "#### Full Connection Layer"
   ]
  },
  {
   "cell_type": "code",
   "execution_count": 8,
   "metadata": {},
   "outputs": [],
   "source": [
    "model.add(Dense(units=128,activation='relu'))\n",
    "model.add(Dense(units=1,activation='sigmoid'))"
   ]
  },
  {
   "cell_type": "code",
   "execution_count": 10,
   "metadata": {},
   "outputs": [],
   "source": [
    "model.compile(loss='binary_crossentropy',optimizer='adam',metrics=['accuracy'])"
   ]
  },
  {
   "cell_type": "code",
   "execution_count": 11,
   "metadata": {},
   "outputs": [],
   "source": [
    "from keras.preprocessing.image import ImageDataGenerator\n",
    "train_datagen=ImageDataGenerator(rescale=1./255,shear_range = 0.1,zoom_range = 0.2,horizontal_flip = True)\n",
    "test_datagen=ImageDataGenerator(rescale=1./255)"
   ]
  },
  {
   "cell_type": "code",
   "execution_count": 12,
   "metadata": {},
   "outputs": [
    {
     "name": "stdout",
     "output_type": "stream",
     "text": [
      "Found 971 images belonging to 2 classes.\n",
      "Found 324 images belonging to 2 classes.\n"
     ]
    }
   ],
   "source": [
    "training_set=train_datagen.flow_from_directory('dataset/train',target_size=(64,64),batch_size=32,class_mode='binary')\n",
    "test_set=test_datagen.flow_from_directory('dataset/test',target_size=(64,64),batch_size=32,class_mode='binary')"
   ]
  },
  {
   "cell_type": "code",
   "execution_count": 17,
   "metadata": {},
   "outputs": [
    {
     "name": "stderr",
     "output_type": "stream",
     "text": [
      "C:\\Users\\Dibs Gautam\\Anaconda3\\envs\\tensoflow-sessions\\lib\\site-packages\\ipykernel_launcher.py:1: UserWarning: The semantics of the Keras 2 argument `steps_per_epoch` is not the same as the Keras 1 argument `samples_per_epoch`. `steps_per_epoch` is the number of batches to draw from the generator at each epoch. Basically steps_per_epoch = samples_per_epoch/batch_size. Similarly `nb_val_samples`->`validation_steps` and `val_samples`->`steps` arguments have changed. Update your method calls accordingly.\n",
      "  \"\"\"Entry point for launching an IPython kernel.\n",
      "C:\\Users\\Dibs Gautam\\Anaconda3\\envs\\tensoflow-sessions\\lib\\site-packages\\ipykernel_launcher.py:1: UserWarning: Update your `fit_generator` call to the Keras 2 API: `fit_generator(<keras_pre..., validation_data=<keras_pre..., steps_per_epoch=62, epochs=15, validation_steps=200)`\n",
      "  \"\"\"Entry point for launching an IPython kernel.\n"
     ]
    },
    {
     "name": "stdout",
     "output_type": "stream",
     "text": [
      "Epoch 1/15\n",
      "62/62 [==============================] - 82s 1s/step - loss: 2.9208e-06 - acc: 1.0000 - val_loss: 2.6869e-06 - val_acc: 1.0000\n",
      "Epoch 2/15\n",
      "62/62 [==============================] - 78s 1s/step - loss: 3.3850e-06 - acc: 1.0000 - val_loss: 2.4860e-06 - val_acc: 1.0000\n",
      "Epoch 3/15\n",
      "62/62 [==============================] - 75s 1s/step - loss: 2.5462e-06 - acc: 1.0000 - val_loss: 2.0419e-06 - val_acc: 1.0000\n",
      "Epoch 4/15\n",
      "62/62 [==============================] - 76s 1s/step - loss: 2.1748e-06 - acc: 1.0000 - val_loss: 1.8991e-06 - val_acc: 1.0000\n",
      "Epoch 5/15\n",
      "62/62 [==============================] - 75s 1s/step - loss: 1.9261e-06 - acc: 1.0000 - val_loss: 1.6801e-06 - val_acc: 1.0000\n",
      "Epoch 6/15\n",
      "62/62 [==============================] - 76s 1s/step - loss: 2.3414e-06 - acc: 1.0000 - val_loss: 1.7409e-06 - val_acc: 1.0000\n",
      "Epoch 7/15\n",
      "62/62 [==============================] - 75s 1s/step - loss: 1.7591e-06 - acc: 1.0000 - val_loss: 1.4843e-06 - val_acc: 1.0000\n",
      "Epoch 8/15\n",
      "62/62 [==============================] - 76s 1s/step - loss: 1.4329e-06 - acc: 1.0000 - val_loss: 1.3482e-06 - val_acc: 1.0000\n",
      "Epoch 9/15\n",
      "62/62 [==============================] - 76s 1s/step - loss: 1.5240e-06 - acc: 1.0000 - val_loss: 1.3227e-06 - val_acc: 1.0000\n",
      "Epoch 10/15\n",
      "62/62 [==============================] - 80s 1s/step - loss: 1.3346e-06 - acc: 1.0000 - val_loss: 1.2010e-06 - val_acc: 1.0000\n",
      "Epoch 11/15\n",
      "62/62 [==============================] - 74s 1s/step - loss: 1.5673e-06 - acc: 1.0000 - val_loss: 1.1803e-06 - val_acc: 1.0000\n",
      "Epoch 12/15\n",
      "62/62 [==============================] - 73s 1s/step - loss: 1.1911e-06 - acc: 1.0000 - val_loss: 9.9360e-07 - val_acc: 1.0000\n",
      "Epoch 13/15\n",
      "62/62 [==============================] - 73s 1s/step - loss: 1.1047e-06 - acc: 1.0000 - val_loss: 9.2977e-07 - val_acc: 1.0000\n",
      "Epoch 14/15\n",
      "62/62 [==============================] - 73s 1s/step - loss: 9.5158e-07 - acc: 1.0000 - val_loss: 8.3859e-07 - val_acc: 1.0000\n",
      "Epoch 15/15\n",
      "62/62 [==============================] - 80s 1s/step - loss: 9.5292e-07 - acc: 1.0000 - val_loss: 7.8587e-07 - val_acc: 1.0000\n"
     ]
    }
   ],
   "source": [
    "history=model.fit_generator(training_set,samples_per_epoch=2000,nb_epoch=15,validation_data=test_set,nb_val_samples=200)"
   ]
  },
  {
   "cell_type": "code",
   "execution_count": 20,
   "metadata": {},
   "outputs": [
    {
     "data": {
      "text/plain": [
       "<matplotlib.legend.Legend at 0x1e4c06f0dd8>"
      ]
     },
     "execution_count": 20,
     "metadata": {},
     "output_type": "execute_result"
    },
    {
     "data": {
      "image/png": "[encoded data removed]",
      "text/plain": [
       "<Figure size 432x288 with 1 Axes>"
      ]
     },
     "metadata": {},
     "output_type": "display_data"
    }
   ],
   "source": [
    "import matplotlib.pyplot as plt\n",
    "%matplotlib inline\n",
    "import numpy as np\n",
    "N = 15\n",
    "plt.style.use(\"ggplot\")\n",
    "plt.figure()\n",
    "plt.plot(np.arange(0, N), history.history[\"loss\"], label=\"train_loss\")\n",
    "plt.plot(np.arange(0, N), history.history[\"val_loss\"], label=\"val_loss\")\n",
    "plt.plot(np.arange(0, N), history.history[\"acc\"], label=\"train_acc\")\n",
    "plt.plot(np.arange(0, N), history.history[\"val_acc\"], label=\"val_acc\")\n",
    "plt.title(\"Training Loss and Accuracy on Dataset\")\n",
    "plt.xlabel(\"Epoch #\")\n",
    "plt.ylabel(\"Loss/Accuracy\")\n",
    "plt.legend(loc=\"lower left\")"
   ]
  },
  {
   "cell_type": "code",
   "execution_count": 21,
   "metadata": {},
   "outputs": [
    {
     "data": {
      "text/plain": [
       "[1.0, 1.0, 1.0, 1.0, 1.0, 1.0, 1.0, 1.0, 1.0, 1.0, 1.0, 1.0, 1.0, 1.0, 1.0]"
      ]
     },
     "execution_count": 21,
     "metadata": {},
     "output_type": "execute_result"
    }
   ],
   "source": [
    "history.history['acc']"
   ]
  },
  {
   "cell_type": "code",
   "execution_count": null,
   "metadata": {},
   "outputs": [],
   "source": []
  }
 ],
 "metadata": {
  "kernelspec": {
   "display_name": "Python 3",
   "language": "python",
   "name": "python3"
  },
  "language_info": {
   "codemirror_mode": {
    "name": "ipython",
    "version": 3
   },
   "file_extension": ".py",
   "mimetype": "text/x-python",
   "name": "python",
   "nbconvert_exporter": "python",
   "pygments_lexer": "ipython3",
   "version": "3.6.8"
  }
 },
 "nbformat": 4,
 "nbformat_minor": 2
}
